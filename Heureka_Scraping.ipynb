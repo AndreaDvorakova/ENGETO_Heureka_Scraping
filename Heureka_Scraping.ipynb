{
  "nbformat": 4,
  "nbformat_minor": 0,
  "metadata": {
    "colab": {
      "name": "Engeto_datovka_opakovaci lekce.ipynb",
      "provenance": [],
      "authorship_tag": "ABX9TyPN/W8x+alRmxFJX2YwyMTx",
      "include_colab_link": true
    },
    "kernelspec": {
      "name": "python3",
      "display_name": "Python 3"
    },
    "language_info": {
      "name": "python"
    }
  },
  "cells": [
    {
      "cell_type": "markdown",
      "metadata": {
        "id": "view-in-github",
        "colab_type": "text"
      },
      "source": [
        "<a href=\"https://colab.research.google.com/github/AndreaDvorakova/Heureka_Scraping/blob/main/Heureka_Scraping.ipynb\" target=\"_parent\"><img src=\"https://colab.research.google.com/assets/colab-badge.svg\" alt=\"Open In Colab\"/></a>"
      ]
    },
    {
      "cell_type": "code",
      "execution_count": 2,
      "metadata": {
        "colab": {
          "base_uri": "https://localhost:8080/"
        },
        "id": "Svrowd-x6lbu",
        "outputId": "8ef0e83b-8671-419f-faaf-c6a958d0f4ff"
      },
      "outputs": [
        {
          "output_type": "stream",
          "name": "stdout",
          "text": [
            "Looking in indexes: https://pypi.org/simple, https://us-python.pkg.dev/colab-wheels/public/simple/\n",
            "Requirement already satisfied: requests in /usr/local/lib/python3.7/dist-packages (2.23.0)\n",
            "Requirement already satisfied: chardet<4,>=3.0.2 in /usr/local/lib/python3.7/dist-packages (from requests) (3.0.4)\n",
            "Requirement already satisfied: urllib3!=1.25.0,!=1.25.1,<1.26,>=1.21.1 in /usr/local/lib/python3.7/dist-packages (from requests) (1.24.3)\n",
            "Requirement already satisfied: idna<3,>=2.5 in /usr/local/lib/python3.7/dist-packages (from requests) (2.10)\n",
            "Requirement already satisfied: certifi>=2017.4.17 in /usr/local/lib/python3.7/dist-packages (from requests) (2022.6.15)\n"
          ]
        }
      ],
      "source": [
        "!pip install requests"
      ]
    },
    {
      "cell_type": "code",
      "source": [
        "!pip install beautifulsoup4"
      ],
      "metadata": {
        "colab": {
          "base_uri": "https://localhost:8080/"
        },
        "id": "dg0Z9lgS6-Lz",
        "outputId": "92a27d92-6761-4947-939d-c693a510321d"
      },
      "execution_count": 3,
      "outputs": [
        {
          "output_type": "stream",
          "name": "stdout",
          "text": [
            "Looking in indexes: https://pypi.org/simple, https://us-python.pkg.dev/colab-wheels/public/simple/\n",
            "Requirement already satisfied: beautifulsoup4 in /usr/local/lib/python3.7/dist-packages (4.6.3)\n"
          ]
        }
      ]
    },
    {
      "cell_type": "code",
      "source": [
        "import requests\n",
        "from bs4 import BeautifulSoup\n",
        "import pandas as pd\n"
      ],
      "metadata": {
        "id": "EvpVlNPE7zXQ"
      },
      "execution_count": 6,
      "outputs": []
    },
    {
      "cell_type": "code",
      "source": [
        "#requesting html code from Heureka with paddleboards\n",
        "response = requests.get('https://paddleboardy.heureka.cz/f:24551:41990821/')\n",
        "soup = BeautifulSoup(response.text, 'html.parser')\n",
        "\n",
        "#finding all the product blocks in html based on h3 tag\n",
        "products = soup.find_all('h3', {'class':'c-product__title'})\n",
        "\n",
        "#finding all the titles and related links in html \n",
        "titles = [product.find('a').text for product in products]\n",
        "hrefs = [product.find('a')['href'] for product in products]\n",
        "all_products = []\n",
        "\n",
        "#iterating through titles and hrefs to get into the detail of each product and find in which store is selling it\n",
        "for href, title in zip(hrefs, titles):\n",
        "  response2 = requests.get(href)\n",
        "  soup2 = BeautifulSoup(response2.text, 'html.parser')\n",
        "  \n",
        "  #picking from the html the shops which are selling the product\n",
        "  shops = soup2.find_all('div', {'class':'c-offer__inner'})\n",
        "\n",
        "  offers_list = []\n",
        "  #finding the price of the product in the shop and transferring into clear int variable\n",
        "  for shop in shops:\n",
        "    price = [letter.replace('\\xa0', '') for letter in (shop.find('span', {'class':'c-offer__price u-bold u-delta'}).text[:-2])]\n",
        "\n",
        "    s = [str(integer) for integer in price]\n",
        "    a_string = \"\".join(s)\n",
        "    res = int(a_string)\n",
        "    \n",
        "    try:\n",
        "      #creating and offer with title, price and shop\n",
        "      offer = {\n",
        "          'title': title,\n",
        "          'price': res,\n",
        "          'shop': shop.find('img', {'class':'c-offer__shop-logo e-image-with-fallback'})['alt'],\n",
        "          'shop_link': shop.find('a', {'class': 'c-offer__shop-logo-cont'})['href'],\n",
        "          'shipping_cost' : shop.find('div', {'class':'c-offer__delivery-availability'})\n",
        "          }\n",
        "      offers_list.append(offer)\n",
        "\n",
        "    except Exception as e:\n",
        "      offers_list.append({})\n",
        "\n",
        "  #list of all products\n",
        "  all_products = all_products + offers_list\n",
        "\n",
        "#transferring list of all products into dataframe\n",
        "df = pd.DataFrame(all_products) \n",
        "\n",
        "#replacing None for zero and changing data types\n",
        "df = df.replace({'shipping_cost': {None:'0'}})\n",
        "df = df.dropna()\n",
        "df = df.astype({\n",
        "    'shipping_cost':'int32',\n",
        "    'price':'int32'\n",
        "})\n",
        "\n",
        "#sum of price and shipping cost as a total price\n",
        "df['total_price'] = df['price'] + df['shipping_cost']\n",
        "print(df)"
      ],
      "metadata": {
        "colab": {
          "base_uri": "https://localhost:8080/"
        },
        "id": "LG8Tx0YI62k4",
        "outputId": "217fd104-bc50-454b-e929-3b342a5978cc"
      },
      "execution_count": 36,
      "outputs": [
        {
          "output_type": "stream",
          "name": "stdout",
          "text": [
            "                            title  price                 shop  \\\n",
            "0  Paddleboard Coasto Evasion 7'4  12349       Snowboardel.cz   \n",
            "1  Paddleboard Coasto Evasion 7'4  11250      ONLINE-SPORT.cz   \n",
            "2  Paddleboard Coasto Evasion 7'4  11699     HEADsportSHOP.cz   \n",
            "3  Paddleboard Coasto Evasion 7'4  12349              MALL.CZ   \n",
            "4  Paddleboard Coasto Evasion 7'4  12999     Shotboardshop.cz   \n",
            "5  Paddleboard Coasto Evasion 7'4  13126         scootshop.cz   \n",
            "6    Paddleboard Tambo YOGA 10’5″  23900           E-čluny.cz   \n",
            "7    Paddleboard Tambo YOGA 10’5″  23900  Nafukovací čluny.cz   \n",
            "8    Paddleboard Tambo YOGA 10’5″  23900        VodackyRaj.cz   \n",
            "\n",
            "                                           shop_link  shipping_cost  \\\n",
            "0  https://www.heureka.cz/exit/shop-snowboardel-c...              0   \n",
            "1  https://www.heureka.cz/exit/online-sport-cz/42...              0   \n",
            "2  https://www.heureka.cz/exit/headsportshop-cz/4...              0   \n",
            "3  https://www.heureka.cz/exit/mall-cz/4630314089...              0   \n",
            "4  https://www.heureka.cz/exit/eshop-shotboardsho...              0   \n",
            "5  https://www.heureka.cz/exit/scootshop-cz/34626...              0   \n",
            "6  https://www.heureka.cz/exit/e-cluny-cz/3058314...              0   \n",
            "7  https://www.heureka.cz/exit/nafukovacicluny-cz...              0   \n",
            "8  https://www.heureka.cz/exit/vodackyraj-cz/3078...              0   \n",
            "\n",
            "   total_price  \n",
            "0        12349  \n",
            "1        11250  \n",
            "2        11699  \n",
            "3        12349  \n",
            "4        12999  \n",
            "5        13126  \n",
            "6        23900  \n",
            "7        23900  \n",
            "8        23900  \n"
          ]
        }
      ]
    }
  ]
}