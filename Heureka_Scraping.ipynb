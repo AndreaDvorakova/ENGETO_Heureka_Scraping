{
  "nbformat": 4,
  "nbformat_minor": 0,
  "metadata": {
    "colab": {
      "name": "Engeto_datovka_opakovaci lekce.ipynb",
      "provenance": [],
      "authorship_tag": "ABX9TyPZQLif1o9Q9v3EpuW8engb"
    },
    "kernelspec": {
      "name": "python3",
      "display_name": "Python 3"
    },
    "language_info": {
      "name": "python"
    }
  },
  "cells": [
    {
      "cell_type": "code",
      "source": [
        "import requests\n",
        "from bs4 import BeautifulSoup\n",
        "import pandas as pd\n",
        "from datetime import datetime\n",
        "from google.colab import files"
      ],
      "metadata": {
        "id": "EvpVlNPE7zXQ"
      },
      "execution_count": 3,
      "outputs": []
    },
    {
      "cell_type": "code",
      "source": [
        "#requesting html code from Heureka with paddleboards\n",
        "response = requests.get('https://paddleboardy.heureka.cz/f:24551:41990821/')\n",
        "soup = BeautifulSoup(response.text, 'html.parser')\n",
        "\n",
        "#finding all the product blocks in html based on h3 tag\n",
        "products = soup.find_all('h3', {'class' : 'c-product__title'})\n",
        "\n",
        "#finding all the titles and related links in html \n",
        "titles = [product.find('a').text for product in products]\n",
        "hrefs = [product.find('a')['href'] for product in products]\n",
        "all_products = []\n",
        "\n",
        "#iterating through titles and hrefs to get into the detail of each product and find in which store is selling it\n",
        "for href, title in zip(hrefs, titles):\n",
        "  response2 = requests.get(href)\n",
        "  soup2 = BeautifulSoup(response2.text, 'html.parser')\n",
        "  \n",
        "  #picking from the html the shops which are selling the product\n",
        "  shops = soup2.find_all('div', {'class' : 'c-offer__inner'})\n",
        "\n",
        "  offers_list = []\n",
        "  #finding the price of the product in the shop and transferring into clear int variable\n",
        "  for shop in shops:\n",
        "    price = [letter.replace('\\xa0', '') for letter in (shop.find('span', {'class':'c-offer__price u-bold u-delta'}).text[:-2])]\n",
        "\n",
        "    s = [str(integer) for integer in price]\n",
        "    a_string = \"\".join(s)\n",
        "    res = int(a_string)\n",
        "    \n",
        "    try:\n",
        "      #creating and offer with title, price and shop\n",
        "      offer = {\n",
        "          'date' : datetime.now().strftime('%Y-%m-%d'), \n",
        "          'title' : title,\n",
        "          'price' : res,\n",
        "          'shop' : shop.find('img', {'class':'c-offer__shop-logo e-image-with-fallback'})['alt'],\n",
        "          'shop_link' : shop.find('a', {'class': 'c-offer__shop-logo-cont'})['href'],\n",
        "          'shipping_cost' : shop.find('div', {'class':'c-offer__delivery-availability'})\n",
        "          }\n",
        "      offers_list.append(offer)\n",
        "\n",
        "    except Exception as e:\n",
        "      offers_list.append({})\n",
        "\n",
        "  #list of all products\n",
        "  all_products = all_products + offers_list\n",
        "\n",
        "#transferring list of all products into dataframe\n",
        "df = pd.DataFrame(all_products) \n",
        "\n",
        "#replacing None for zero and changing data types\n",
        "df = df.replace({'shipping_cost' : {None : '0'}})\n",
        "df = df.dropna()\n",
        "df = df.astype({\n",
        "    'shipping_cost' : 'int32',\n",
        "    'price' : 'int32'\n",
        "})\n",
        "\n",
        "#sum of price and shipping cost as a total price\n",
        "df['total_price'] = df['price'] + df['shipping_cost']\n",
        "\n",
        "#downloading the data in csv format\n",
        "df.to_csv('paddleboard_scrap.csv', encoding = 'utf-8-sig')\n",
        "files.download('paddleboard_scrap.csv')\n",
        "\n",
        "#use the code below for continuous update of the csv file\n",
        "\n",
        "#df.to_csv('paddleboard_scrap.csv', mode = 'a', header = False)\n"
      ],
      "metadata": {
        "colab": {
          "base_uri": "https://localhost:8080/",
          "height": 17
        },
        "id": "LG8Tx0YI62k4",
        "outputId": "b5bf39a1-effc-43f3-b22d-9c3d4555f753"
      },
      "execution_count": 4,
      "outputs": [
        {
          "output_type": "display_data",
          "data": {
            "text/plain": [
              "<IPython.core.display.Javascript object>"
            ],
            "application/javascript": [
              "\n",
              "    async function download(id, filename, size) {\n",
              "      if (!google.colab.kernel.accessAllowed) {\n",
              "        return;\n",
              "      }\n",
              "      const div = document.createElement('div');\n",
              "      const label = document.createElement('label');\n",
              "      label.textContent = `Downloading \"${filename}\": `;\n",
              "      div.appendChild(label);\n",
              "      const progress = document.createElement('progress');\n",
              "      progress.max = size;\n",
              "      div.appendChild(progress);\n",
              "      document.body.appendChild(div);\n",
              "\n",
              "      const buffers = [];\n",
              "      let downloaded = 0;\n",
              "\n",
              "      const channel = await google.colab.kernel.comms.open(id);\n",
              "      // Send a message to notify the kernel that we're ready.\n",
              "      channel.send({})\n",
              "\n",
              "      for await (const message of channel.messages) {\n",
              "        // Send a message to notify the kernel that we're ready.\n",
              "        channel.send({})\n",
              "        if (message.buffers) {\n",
              "          for (const buffer of message.buffers) {\n",
              "            buffers.push(buffer);\n",
              "            downloaded += buffer.byteLength;\n",
              "            progress.value = downloaded;\n",
              "          }\n",
              "        }\n",
              "      }\n",
              "      const blob = new Blob(buffers, {type: 'application/binary'});\n",
              "      const a = document.createElement('a');\n",
              "      a.href = window.URL.createObjectURL(blob);\n",
              "      a.download = filename;\n",
              "      div.appendChild(a);\n",
              "      a.click();\n",
              "      div.remove();\n",
              "    }\n",
              "  "
            ]
          },
          "metadata": {}
        },
        {
          "output_type": "display_data",
          "data": {
            "text/plain": [
              "<IPython.core.display.Javascript object>"
            ],
            "application/javascript": [
              "download(\"download_dd95d004-d312-40ff-9709-9104b6cf7a5f\", \"paddleboard_scrap.csv\", 1364)"
            ]
          },
          "metadata": {}
        }
      ]
    }
  ]
}